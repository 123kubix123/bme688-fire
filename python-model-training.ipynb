{
 "cells": [
  {
   "cell_type": "markdown",
   "metadata": {},
   "source": [
    "# Data cleaning"
   ]
  },
  {
   "cell_type": "code",
   "execution_count": 91,
   "metadata": {},
   "outputs": [],
   "source": [
    "import json\n",
    "import pandas as pd\n",
    "import time"
   ]
  },
  {
   "cell_type": "code",
   "execution_count": 92,
   "metadata": {},
   "outputs": [],
   "source": [
    "d1 = \"data/2021_11_11_17_59_Board_94B97E6BA7B0_PowerOnOff_1_u6zwow6t2f25togi_File_0.bmerawdata\"\n",
    "d2 = \"data/2021_11_10_16_46_Board_94B97E6BA7B0_PowerOnOff_1_i3pwya3wka1j43oc_File_0.bmerawdata\"\n",
    "d = json.load(open(d2))"
   ]
  },
  {
   "cell_type": "code",
   "execution_count": 93,
   "metadata": {},
   "outputs": [],
   "source": [
    "data = pd.DataFrame(d[\"rawDataBody\"][\"dataBlock\"])\n",
    "data.columns = [item['key'] for item in d[\"rawDataBody\"][\"dataColumns\"]]\n",
    "data[\"date\"] = pd.to_datetime(data['real_time_clock'],unit='s')"
   ]
  },
  {
   "cell_type": "code",
   "execution_count": 94,
   "metadata": {
    "scrolled": true
   },
   "outputs": [
    {
     "data": {
      "text/html": [
       "<div>\n",
       "<style scoped>\n",
       "    .dataframe tbody tr th:only-of-type {\n",
       "        vertical-align: middle;\n",
       "    }\n",
       "\n",
       "    .dataframe tbody tr th {\n",
       "        vertical-align: top;\n",
       "    }\n",
       "\n",
       "    .dataframe thead th {\n",
       "        text-align: right;\n",
       "    }\n",
       "</style>\n",
       "<table border=\"1\" class=\"dataframe\">\n",
       "  <thead>\n",
       "    <tr style=\"text-align: right;\">\n",
       "      <th></th>\n",
       "      <th>sensor_index</th>\n",
       "      <th>sensor_id</th>\n",
       "      <th>timestamp_since_poweron</th>\n",
       "      <th>real_time_clock</th>\n",
       "      <th>temperature</th>\n",
       "      <th>pressure</th>\n",
       "      <th>relative_humidity</th>\n",
       "      <th>resistance_gassensor</th>\n",
       "      <th>heater_profile_step_index</th>\n",
       "      <th>scanning_enabled</th>\n",
       "      <th>label_tag</th>\n",
       "      <th>error_code</th>\n",
       "    </tr>\n",
       "  </thead>\n",
       "  <tbody>\n",
       "    <tr>\n",
       "      <th>count</th>\n",
       "      <td>18400.00000</td>\n",
       "      <td>1.840000e+04</td>\n",
       "      <td>1.840000e+04</td>\n",
       "      <td>1.840000e+04</td>\n",
       "      <td>18400.000000</td>\n",
       "      <td>18400.000000</td>\n",
       "      <td>18400.000000</td>\n",
       "      <td>1.840000e+04</td>\n",
       "      <td>18400.000000</td>\n",
       "      <td>18400.000000</td>\n",
       "      <td>18400.000000</td>\n",
       "      <td>18400.0</td>\n",
       "    </tr>\n",
       "    <tr>\n",
       "      <th>mean</th>\n",
       "      <td>3.50000</td>\n",
       "      <td>1.619189e+09</td>\n",
       "      <td>3.659113e+06</td>\n",
       "      <td>1.636566e+09</td>\n",
       "      <td>36.072545</td>\n",
       "      <td>1014.772184</td>\n",
       "      <td>26.117367</td>\n",
       "      <td>4.981060e+06</td>\n",
       "      <td>4.500000</td>\n",
       "      <td>0.980000</td>\n",
       "      <td>1.234402</td>\n",
       "      <td>0.0</td>\n",
       "    </tr>\n",
       "    <tr>\n",
       "      <th>std</th>\n",
       "      <td>2.29135</td>\n",
       "      <td>2.842064e+08</td>\n",
       "      <td>2.141301e+06</td>\n",
       "      <td>2.141515e+03</td>\n",
       "      <td>2.010091</td>\n",
       "      <td>0.316654</td>\n",
       "      <td>3.094530</td>\n",
       "      <td>9.435927e+06</td>\n",
       "      <td>2.872359</td>\n",
       "      <td>0.140004</td>\n",
       "      <td>0.835904</td>\n",
       "      <td>0.0</td>\n",
       "    </tr>\n",
       "    <tr>\n",
       "      <th>min</th>\n",
       "      <td>0.00000</td>\n",
       "      <td>1.334977e+09</td>\n",
       "      <td>3.274000e+03</td>\n",
       "      <td>1.636563e+09</td>\n",
       "      <td>29.371206</td>\n",
       "      <td>1014.051208</td>\n",
       "      <td>20.457424</td>\n",
       "      <td>3.967762e+04</td>\n",
       "      <td>0.000000</td>\n",
       "      <td>0.000000</td>\n",
       "      <td>0.000000</td>\n",
       "      <td>0.0</td>\n",
       "    </tr>\n",
       "    <tr>\n",
       "      <th>25%</th>\n",
       "      <td>1.75000</td>\n",
       "      <td>1.334992e+09</td>\n",
       "      <td>1.805364e+06</td>\n",
       "      <td>1.636565e+09</td>\n",
       "      <td>34.599586</td>\n",
       "      <td>1014.520081</td>\n",
       "      <td>23.558842</td>\n",
       "      <td>1.830533e+05</td>\n",
       "      <td>2.000000</td>\n",
       "      <td>1.000000</td>\n",
       "      <td>0.000000</td>\n",
       "      <td>0.0</td>\n",
       "    </tr>\n",
       "    <tr>\n",
       "      <th>50%</th>\n",
       "      <td>3.50000</td>\n",
       "      <td>1.619189e+09</td>\n",
       "      <td>3.659064e+06</td>\n",
       "      <td>1.636566e+09</td>\n",
       "      <td>36.027401</td>\n",
       "      <td>1014.768982</td>\n",
       "      <td>25.777097</td>\n",
       "      <td>4.440590e+05</td>\n",
       "      <td>4.500000</td>\n",
       "      <td>1.000000</td>\n",
       "      <td>1.000000</td>\n",
       "      <td>0.0</td>\n",
       "    </tr>\n",
       "    <tr>\n",
       "      <th>75%</th>\n",
       "      <td>5.25000</td>\n",
       "      <td>1.903391e+09</td>\n",
       "      <td>5.514242e+06</td>\n",
       "      <td>1.636568e+09</td>\n",
       "      <td>37.741463</td>\n",
       "      <td>1014.993057</td>\n",
       "      <td>27.875109</td>\n",
       "      <td>4.790294e+06</td>\n",
       "      <td>7.000000</td>\n",
       "      <td>1.000000</td>\n",
       "      <td>2.000000</td>\n",
       "      <td>0.0</td>\n",
       "    </tr>\n",
       "    <tr>\n",
       "      <th>max</th>\n",
       "      <td>7.00000</td>\n",
       "      <td>1.903395e+09</td>\n",
       "      <td>7.323845e+06</td>\n",
       "      <td>1.636570e+09</td>\n",
       "      <td>41.912571</td>\n",
       "      <td>1015.629333</td>\n",
       "      <td>39.547005</td>\n",
       "      <td>6.884034e+07</td>\n",
       "      <td>9.000000</td>\n",
       "      <td>1.000000</td>\n",
       "      <td>2.000000</td>\n",
       "      <td>0.0</td>\n",
       "    </tr>\n",
       "  </tbody>\n",
       "</table>\n",
       "</div>"
      ],
      "text/plain": [
       "       sensor_index     sensor_id  timestamp_since_poweron  real_time_clock  \\\n",
       "count   18400.00000  1.840000e+04             1.840000e+04     1.840000e+04   \n",
       "mean        3.50000  1.619189e+09             3.659113e+06     1.636566e+09   \n",
       "std         2.29135  2.842064e+08             2.141301e+06     2.141515e+03   \n",
       "min         0.00000  1.334977e+09             3.274000e+03     1.636563e+09   \n",
       "25%         1.75000  1.334992e+09             1.805364e+06     1.636565e+09   \n",
       "50%         3.50000  1.619189e+09             3.659064e+06     1.636566e+09   \n",
       "75%         5.25000  1.903391e+09             5.514242e+06     1.636568e+09   \n",
       "max         7.00000  1.903395e+09             7.323845e+06     1.636570e+09   \n",
       "\n",
       "        temperature      pressure  relative_humidity  resistance_gassensor  \\\n",
       "count  18400.000000  18400.000000       18400.000000          1.840000e+04   \n",
       "mean      36.072545   1014.772184          26.117367          4.981060e+06   \n",
       "std        2.010091      0.316654           3.094530          9.435927e+06   \n",
       "min       29.371206   1014.051208          20.457424          3.967762e+04   \n",
       "25%       34.599586   1014.520081          23.558842          1.830533e+05   \n",
       "50%       36.027401   1014.768982          25.777097          4.440590e+05   \n",
       "75%       37.741463   1014.993057          27.875109          4.790294e+06   \n",
       "max       41.912571   1015.629333          39.547005          6.884034e+07   \n",
       "\n",
       "       heater_profile_step_index  scanning_enabled     label_tag  error_code  \n",
       "count               18400.000000      18400.000000  18400.000000     18400.0  \n",
       "mean                    4.500000          0.980000      1.234402         0.0  \n",
       "std                     2.872359          0.140004      0.835904         0.0  \n",
       "min                     0.000000          0.000000      0.000000         0.0  \n",
       "25%                     2.000000          1.000000      0.000000         0.0  \n",
       "50%                     4.500000          1.000000      1.000000         0.0  \n",
       "75%                     7.000000          1.000000      2.000000         0.0  \n",
       "max                     9.000000          1.000000      2.000000         0.0  "
      ]
     },
     "execution_count": 94,
     "metadata": {},
     "output_type": "execute_result"
    }
   ],
   "source": [
    "data.describe()"
   ]
  },
  {
   "cell_type": "code",
   "execution_count": 119,
   "metadata": {},
   "outputs": [
    {
     "name": "stdout",
     "output_type": "stream",
     "text": [
      "4777\n",
      "9200\n",
      "13733\n"
     ]
    }
   ],
   "source": [
    "# fixing messed up labels, more details ask Kuba or Hania\n",
    "data[\"fixed_label\"] = 0\n",
    "x = data.label_tag.to_list()\n",
    "for i in range(1,len(x),1):\n",
    "    if x[i-1] != x[i]:\n",
    "        print(i)\n",
    "data.loc[:4777, \"fixed_label\"] = 1\n",
    "data.loc[4777:9200, \"fixed_label\"] = 2\n",
    "data.loc[9200:13733, \"fixed_label\"] = 1\n",
    "data.loc[13733:, \"fixed_label\"] = 2"
   ]
  },
  {
   "cell_type": "code",
   "execution_count": 140,
   "metadata": {},
   "outputs": [],
   "source": [
    "df = data[data.sensor_index == 1]\n",
    "X = data[[\"temperature\", \"pressure\", \"relative_humidity\"]]#, \"resistance_gassensor\"]]#, \"heater_profile_step_index\"]]\n",
    "y = data[\"fixed_label\"]"
   ]
  },
  {
   "cell_type": "code",
   "execution_count": 141,
   "metadata": {},
   "outputs": [
    {
     "data": {
      "text/plain": [
       "0.8582608695652174"
      ]
     },
     "execution_count": 141,
     "metadata": {},
     "output_type": "execute_result"
    }
   ],
   "source": [
    "from sklearn.neural_network import MLPClassifier\n",
    "from sklearn.datasets import make_classification\n",
    "from sklearn.model_selection import train_test_split\n",
    "\n",
    "X_train, X_test, y_train, y_test = train_test_split(X, y)\n",
    "clf = MLPClassifier(hidden_layer_sizes=(32,32,32,32,32,32), activation='logistic', random_state=100, max_iter=20000).fit(X_train, y_train)\n",
    "\n",
    "clf.score(X_test, y_test)"
   ]
  },
  {
   "cell_type": "markdown",
   "metadata": {},
   "source": [
    "# Zapisywanie i wczytywanie modelu"
   ]
  },
  {
   "cell_type": "code",
   "execution_count": 142,
   "metadata": {},
   "outputs": [
    {
     "name": "stdout",
     "output_type": "stream",
     "text": [
      "0.8582608695652174\n"
     ]
    }
   ],
   "source": [
    "import pickle\n",
    "filename = 'finalized_model.sav'\n",
    "pickle.dump(clf, open(filename, 'wb'))\n",
    " \n",
    "# load the model from disk\n",
    "loaded_model = pickle.load(open(filename, 'rb'))\n",
    "result = loaded_model.score(X_test, y_test)\n",
    "print(result)"
   ]
  }
 ],
 "metadata": {
  "kernelspec": {
   "display_name": "Python 3 (ipykernel)",
   "language": "python",
   "name": "python3"
  },
  "language_info": {
   "codemirror_mode": {
    "name": "ipython",
    "version": 3
   },
   "file_extension": ".py",
   "mimetype": "text/x-python",
   "name": "python",
   "nbconvert_exporter": "python",
   "pygments_lexer": "ipython3",
   "version": "3.10.6"
  }
 },
 "nbformat": 4,
 "nbformat_minor": 4
}
