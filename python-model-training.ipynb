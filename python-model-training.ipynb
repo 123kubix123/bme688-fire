{
 "cells": [
  {
   "cell_type": "markdown",
   "metadata": {},
   "source": [
    "# Data cleaning"
   ]
  },
  {
   "cell_type": "code",
   "execution_count": 16,
   "metadata": {},
   "outputs": [],
   "source": [
    "import json\n",
    "import pandas as pd"
   ]
  },
  {
   "cell_type": "code",
   "execution_count": 4,
   "metadata": {},
   "outputs": [],
   "source": [
    "d = json.load(open(\"data/2021_11_10_16_46_Board_94B97E6BA7B0_PowerOnOff_1_i3pwya3wka1j43oc_File_0.bmerawdata\"))"
   ]
  },
  {
   "cell_type": "code",
   "execution_count": 13,
   "metadata": {},
   "outputs": [
    {
     "data": {
      "text/plain": [
       "[{'name': 'Sensor Index',\n",
       "  'unit': '',\n",
       "  'format': 'integer',\n",
       "  'key': 'sensor_index'},\n",
       " {'name': 'Sensor ID', 'unit': '', 'format': 'integer', 'key': 'sensor_id'},\n",
       " {'name': 'Time Since PowerOn',\n",
       "  'unit': 'Milliseconds',\n",
       "  'format': 'integer',\n",
       "  'key': 'timestamp_since_poweron'},\n",
       " {'name': 'Real time clock',\n",
       "  'unit': 'Unix Timestamp: seconds since Jan 01 1970. (UTC); 0 = missing',\n",
       "  'format': 'integer',\n",
       "  'key': 'real_time_clock'},\n",
       " {'name': 'Temperature',\n",
       "  'unit': 'DegreesClecius',\n",
       "  'format': 'float',\n",
       "  'key': 'temperature'},\n",
       " {'name': 'Pressure',\n",
       "  'unit': 'Hectopascals',\n",
       "  'format': 'float',\n",
       "  'key': 'pressure'},\n",
       " {'name': 'Relative Humidity',\n",
       "  'unit': 'Percent',\n",
       "  'format': 'float',\n",
       "  'key': 'relative_humidity'},\n",
       " {'name': 'Resistance Gassensor',\n",
       "  'unit': 'Ohms',\n",
       "  'format': 'float',\n",
       "  'key': 'resistance_gassensor'},\n",
       " {'name': 'Heater Profile Step Index',\n",
       "  'unit': '',\n",
       "  'format': 'integer',\n",
       "  'key': 'heater_profile_step_index'},\n",
       " {'name': 'Scanning enabled',\n",
       "  'unit': '',\n",
       "  'format': 'integer',\n",
       "  'key': 'scanning_enabled'},\n",
       " {'name': 'Label Tag', 'unit': '', 'format': 'integer', 'key': 'label_tag'},\n",
       " {'name': 'Error Code', 'unit': '', 'format': 'integer', 'key': 'error_code'}]"
      ]
     },
     "execution_count": 13,
     "metadata": {},
     "output_type": "execute_result"
    }
   ],
   "source": [
    "d[\"rawDataBody\"][\"dataColumns\"]"
   ]
  },
  {
   "cell_type": "code",
   "execution_count": 25,
   "metadata": {},
   "outputs": [],
   "source": [
    "data = pd.DataFrame(d[\"rawDataBody\"][\"dataBlock\"])\n",
    "data.columns = [item['key'] for item in d[\"rawDataBody\"][\"dataColumns\"]]"
   ]
  },
  {
   "cell_type": "code",
   "execution_count": 26,
   "metadata": {
    "scrolled": true
   },
   "outputs": [
    {
     "data": {
      "text/html": [
       "<div>\n",
       "<style scoped>\n",
       "    .dataframe tbody tr th:only-of-type {\n",
       "        vertical-align: middle;\n",
       "    }\n",
       "\n",
       "    .dataframe tbody tr th {\n",
       "        vertical-align: top;\n",
       "    }\n",
       "\n",
       "    .dataframe thead th {\n",
       "        text-align: right;\n",
       "    }\n",
       "</style>\n",
       "<table border=\"1\" class=\"dataframe\">\n",
       "  <thead>\n",
       "    <tr style=\"text-align: right;\">\n",
       "      <th></th>\n",
       "      <th>sensor_index</th>\n",
       "      <th>sensor_id</th>\n",
       "      <th>timestamp_since_poweron</th>\n",
       "      <th>real_time_clock</th>\n",
       "      <th>temperature</th>\n",
       "      <th>pressure</th>\n",
       "      <th>relative_humidity</th>\n",
       "      <th>resistance_gassensor</th>\n",
       "      <th>heater_profile_step_index</th>\n",
       "      <th>scanning_enabled</th>\n",
       "      <th>label_tag</th>\n",
       "      <th>error_code</th>\n",
       "    </tr>\n",
       "  </thead>\n",
       "  <tbody>\n",
       "    <tr>\n",
       "      <th>count</th>\n",
       "      <td>18400.00000</td>\n",
       "      <td>1.840000e+04</td>\n",
       "      <td>1.840000e+04</td>\n",
       "      <td>1.840000e+04</td>\n",
       "      <td>18400.000000</td>\n",
       "      <td>18400.000000</td>\n",
       "      <td>18400.000000</td>\n",
       "      <td>1.840000e+04</td>\n",
       "      <td>18400.000000</td>\n",
       "      <td>18400.000000</td>\n",
       "      <td>18400.000000</td>\n",
       "      <td>18400.0</td>\n",
       "    </tr>\n",
       "    <tr>\n",
       "      <th>mean</th>\n",
       "      <td>3.50000</td>\n",
       "      <td>1.619189e+09</td>\n",
       "      <td>3.659113e+06</td>\n",
       "      <td>1.636566e+09</td>\n",
       "      <td>36.072545</td>\n",
       "      <td>1014.772184</td>\n",
       "      <td>26.117367</td>\n",
       "      <td>4.981060e+06</td>\n",
       "      <td>4.500000</td>\n",
       "      <td>0.980000</td>\n",
       "      <td>1.234402</td>\n",
       "      <td>0.0</td>\n",
       "    </tr>\n",
       "    <tr>\n",
       "      <th>std</th>\n",
       "      <td>2.29135</td>\n",
       "      <td>2.842064e+08</td>\n",
       "      <td>2.141301e+06</td>\n",
       "      <td>2.141515e+03</td>\n",
       "      <td>2.010091</td>\n",
       "      <td>0.316654</td>\n",
       "      <td>3.094530</td>\n",
       "      <td>9.435927e+06</td>\n",
       "      <td>2.872359</td>\n",
       "      <td>0.140004</td>\n",
       "      <td>0.835904</td>\n",
       "      <td>0.0</td>\n",
       "    </tr>\n",
       "    <tr>\n",
       "      <th>min</th>\n",
       "      <td>0.00000</td>\n",
       "      <td>1.334977e+09</td>\n",
       "      <td>3.274000e+03</td>\n",
       "      <td>1.636563e+09</td>\n",
       "      <td>29.371206</td>\n",
       "      <td>1014.051208</td>\n",
       "      <td>20.457424</td>\n",
       "      <td>3.967762e+04</td>\n",
       "      <td>0.000000</td>\n",
       "      <td>0.000000</td>\n",
       "      <td>0.000000</td>\n",
       "      <td>0.0</td>\n",
       "    </tr>\n",
       "    <tr>\n",
       "      <th>25%</th>\n",
       "      <td>1.75000</td>\n",
       "      <td>1.334992e+09</td>\n",
       "      <td>1.805364e+06</td>\n",
       "      <td>1.636565e+09</td>\n",
       "      <td>34.599586</td>\n",
       "      <td>1014.520081</td>\n",
       "      <td>23.558842</td>\n",
       "      <td>1.830533e+05</td>\n",
       "      <td>2.000000</td>\n",
       "      <td>1.000000</td>\n",
       "      <td>0.000000</td>\n",
       "      <td>0.0</td>\n",
       "    </tr>\n",
       "    <tr>\n",
       "      <th>50%</th>\n",
       "      <td>3.50000</td>\n",
       "      <td>1.619189e+09</td>\n",
       "      <td>3.659064e+06</td>\n",
       "      <td>1.636566e+09</td>\n",
       "      <td>36.027401</td>\n",
       "      <td>1014.768982</td>\n",
       "      <td>25.777097</td>\n",
       "      <td>4.440590e+05</td>\n",
       "      <td>4.500000</td>\n",
       "      <td>1.000000</td>\n",
       "      <td>1.000000</td>\n",
       "      <td>0.0</td>\n",
       "    </tr>\n",
       "    <tr>\n",
       "      <th>75%</th>\n",
       "      <td>5.25000</td>\n",
       "      <td>1.903391e+09</td>\n",
       "      <td>5.514242e+06</td>\n",
       "      <td>1.636568e+09</td>\n",
       "      <td>37.741463</td>\n",
       "      <td>1014.993057</td>\n",
       "      <td>27.875109</td>\n",
       "      <td>4.790294e+06</td>\n",
       "      <td>7.000000</td>\n",
       "      <td>1.000000</td>\n",
       "      <td>2.000000</td>\n",
       "      <td>0.0</td>\n",
       "    </tr>\n",
       "    <tr>\n",
       "      <th>max</th>\n",
       "      <td>7.00000</td>\n",
       "      <td>1.903395e+09</td>\n",
       "      <td>7.323845e+06</td>\n",
       "      <td>1.636570e+09</td>\n",
       "      <td>41.912571</td>\n",
       "      <td>1015.629333</td>\n",
       "      <td>39.547005</td>\n",
       "      <td>6.884034e+07</td>\n",
       "      <td>9.000000</td>\n",
       "      <td>1.000000</td>\n",
       "      <td>2.000000</td>\n",
       "      <td>0.0</td>\n",
       "    </tr>\n",
       "  </tbody>\n",
       "</table>\n",
       "</div>"
      ],
      "text/plain": [
       "       sensor_index     sensor_id  timestamp_since_poweron  real_time_clock  \\\n",
       "count   18400.00000  1.840000e+04             1.840000e+04     1.840000e+04   \n",
       "mean        3.50000  1.619189e+09             3.659113e+06     1.636566e+09   \n",
       "std         2.29135  2.842064e+08             2.141301e+06     2.141515e+03   \n",
       "min         0.00000  1.334977e+09             3.274000e+03     1.636563e+09   \n",
       "25%         1.75000  1.334992e+09             1.805364e+06     1.636565e+09   \n",
       "50%         3.50000  1.619189e+09             3.659064e+06     1.636566e+09   \n",
       "75%         5.25000  1.903391e+09             5.514242e+06     1.636568e+09   \n",
       "max         7.00000  1.903395e+09             7.323845e+06     1.636570e+09   \n",
       "\n",
       "        temperature      pressure  relative_humidity  resistance_gassensor  \\\n",
       "count  18400.000000  18400.000000       18400.000000          1.840000e+04   \n",
       "mean      36.072545   1014.772184          26.117367          4.981060e+06   \n",
       "std        2.010091      0.316654           3.094530          9.435927e+06   \n",
       "min       29.371206   1014.051208          20.457424          3.967762e+04   \n",
       "25%       34.599586   1014.520081          23.558842          1.830533e+05   \n",
       "50%       36.027401   1014.768982          25.777097          4.440590e+05   \n",
       "75%       37.741463   1014.993057          27.875109          4.790294e+06   \n",
       "max       41.912571   1015.629333          39.547005          6.884034e+07   \n",
       "\n",
       "       heater_profile_step_index  scanning_enabled     label_tag  error_code  \n",
       "count               18400.000000      18400.000000  18400.000000     18400.0  \n",
       "mean                    4.500000          0.980000      1.234402         0.0  \n",
       "std                     2.872359          0.140004      0.835904         0.0  \n",
       "min                     0.000000          0.000000      0.000000         0.0  \n",
       "25%                     2.000000          1.000000      0.000000         0.0  \n",
       "50%                     4.500000          1.000000      1.000000         0.0  \n",
       "75%                     7.000000          1.000000      2.000000         0.0  \n",
       "max                     9.000000          1.000000      2.000000         0.0  "
      ]
     },
     "execution_count": 26,
     "metadata": {},
     "output_type": "execute_result"
    }
   ],
   "source": [
    "data.describe()"
   ]
  },
  {
   "cell_type": "markdown",
   "metadata": {},
   "source": [
    "Zostawiamy: temperature, pressure, relative_humidity, resistance_gassensor\n",
    "\n",
    "Czy zostawić heater_profile_step_index?"
   ]
  },
  {
   "cell_type": "code",
   "execution_count": 32,
   "metadata": {},
   "outputs": [],
   "source": [
    "X = data[[\"temperature\", \"pressure\", \"relative_humidity\", \"resistance_gassensor\"]]\n",
    "y = data[\"label_tag\"]"
   ]
  },
  {
   "cell_type": "code",
   "execution_count": 48,
   "metadata": {},
   "outputs": [
    {
     "data": {
      "text/plain": [
       "0.49326086956521736"
      ]
     },
     "execution_count": 48,
     "metadata": {},
     "output_type": "execute_result"
    }
   ],
   "source": [
    "from sklearn.neural_network import MLPClassifier\n",
    "from sklearn.datasets import make_classification\n",
    "from sklearn.model_selection import train_test_split\n",
    "\n",
    "X_train, X_test, y_train, y_test = train_test_split(X, y)\n",
    "clf = MLPClassifier(hidden_layer_sizes=(100,100,100,), activation='tanh').fit(X_train, y_train)\n",
    "\n",
    "clf.score(X_test, y_test)"
   ]
  },
  {
   "cell_type": "markdown",
   "metadata": {},
   "source": [
    "mamy acc małpy rzucającej monetą"
   ]
  },
  {
   "cell_type": "markdown",
   "metadata": {},
   "source": [
    "## Wariant jeśli pliki są pożar/nie-pożar"
   ]
  },
  {
   "cell_type": "code",
   "execution_count": 57,
   "metadata": {},
   "outputs": [],
   "source": [
    "def clean_file(filename, label):\n",
    "    \"\"\"\n",
    "    reads and cleans json from file and adds column with label\n",
    "    \"\"\"\n",
    "    \n",
    "    d = json.load(open(filename))\n",
    "    data = pd.DataFrame(d[\"rawDataBody\"][\"dataBlock\"])\n",
    "    data.columns = [item['key'] for item in d[\"rawDataBody\"][\"dataColumns\"]]\n",
    "    X = data[[\"temperature\", \"pressure\", \"relative_humidity\", \"resistance_gassensor\"]]\n",
    "    X.loc[:, 'label'] = label\n",
    "    return X"
   ]
  },
  {
   "cell_type": "code",
   "execution_count": 61,
   "metadata": {},
   "outputs": [
    {
     "name": "stderr",
     "output_type": "stream",
     "text": [
      "<ipython-input-57-f9919705820d>:10: SettingWithCopyWarning: \n",
      "A value is trying to be set on a copy of a slice from a DataFrame.\n",
      "Try using .loc[row_indexer,col_indexer] = value instead\n",
      "\n",
      "See the caveats in the documentation: https://pandas.pydata.org/pandas-docs/stable/user_guide/indexing.html#returning-a-view-versus-a-copy\n",
      "  X.loc[:, 'label'] = label\n",
      "<ipython-input-57-f9919705820d>:10: SettingWithCopyWarning: \n",
      "A value is trying to be set on a copy of a slice from a DataFrame.\n",
      "Try using .loc[row_indexer,col_indexer] = value instead\n",
      "\n",
      "See the caveats in the documentation: https://pandas.pydata.org/pandas-docs/stable/user_guide/indexing.html#returning-a-view-versus-a-copy\n",
      "  X.loc[:, 'label'] = label\n"
     ]
    }
   ],
   "source": [
    "pozar = clean_file(\"./data/2021_11_10_16_46_Board_94B97E6BA7B0_PowerOnOff_1_i3pwya3wka1j43oc_File_0.bmerawdata\", 0)\n",
    "niepozar = clean_file(\"./data/2021_11_11_17_59_Board_94B97E6BA7B0_PowerOnOff_1_u6zwow6t2f25togi_File_0.bmerawdata\", 1)"
   ]
  },
  {
   "cell_type": "code",
   "execution_count": 66,
   "metadata": {},
   "outputs": [],
   "source": [
    "data = pd.concat([pozar, niepozar])"
   ]
  },
  {
   "cell_type": "code",
   "execution_count": 71,
   "metadata": {},
   "outputs": [
    {
     "name": "stderr",
     "output_type": "stream",
     "text": [
      "/home/hania/.local/lib/python3.8/site-packages/sklearn/neural_network/_multilayer_perceptron.py:1118: DataConversionWarning: A column-vector y was passed when a 1d array was expected. Please change the shape of y to (n_samples, ), for example using ravel().\n",
      "  y = column_or_1d(y, warn=True)\n"
     ]
    },
    {
     "data": {
      "text/plain": [
       "0.6865493587831792"
      ]
     },
     "execution_count": 71,
     "metadata": {},
     "output_type": "execute_result"
    }
   ],
   "source": [
    "from sklearn.neural_network import MLPClassifier\n",
    "from sklearn.datasets import make_classification\n",
    "from sklearn.model_selection import train_test_split\n",
    "\n",
    "y = data[[\"label\"]]\n",
    "X = data[[\"temperature\", \"pressure\", \"relative_humidity\", \"resistance_gassensor\"]]\n",
    "\n",
    "X_train, X_test, y_train, y_test = train_test_split(X, y)\n",
    "clf = MLPClassifier(hidden_layer_sizes=(32,32,), activation='logistic').fit(X_train, y_train)\n",
    "\n",
    "clf.score(X_test, y_test)"
   ]
  },
  {
   "cell_type": "code",
   "execution_count": 75,
   "metadata": {},
   "outputs": [
    {
     "name": "stdout",
     "output_type": "stream",
     "text": [
      "0.6865493587831792\n"
     ]
    }
   ],
   "source": [
    "import pickle\n",
    "filename = 'finalized_model.sav'\n",
    "pickle.dump(clf, open(filename, 'wb'))\n",
    " \n",
    "# load the model from disk\n",
    "loaded_model = pickle.load(open(filename, 'rb'))\n",
    "result = loaded_model.score(X_test, y_test)\n",
    "print(result)"
   ]
  },
  {
   "cell_type": "code",
   "execution_count": null,
   "metadata": {},
   "outputs": [],
   "source": []
  }
 ],
 "metadata": {
  "kernelspec": {
   "display_name": "Python 3",
   "language": "python",
   "name": "python3"
  },
  "language_info": {
   "codemirror_mode": {
    "name": "ipython",
    "version": 3
   },
   "file_extension": ".py",
   "mimetype": "text/x-python",
   "name": "python",
   "nbconvert_exporter": "python",
   "pygments_lexer": "ipython3",
   "version": "3.8.10"
  }
 },
 "nbformat": 4,
 "nbformat_minor": 4
}
